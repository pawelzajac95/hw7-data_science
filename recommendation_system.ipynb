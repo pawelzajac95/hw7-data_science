{
 "cells": [
  {
   "cell_type": "code",
   "execution_count": null,
   "metadata": {
    "vscode": {
     "languageId": "plaintext"
    }
   },
   "outputs": [
    {
     "name": "stdout",
     "output_type": "stream",
     "text": [
      "  user item  rating  timestamp\n",
      "0  196  242     3.0  881250949\n",
      "1  186  302     3.0  891717742\n",
      "2   22  377     1.0  878887116\n",
      "3  244   51     2.0  880606923\n",
      "4  166  346     1.0  886397596\n",
      "Evaluating RMSE, MAE of algorithm SVD on 5 split(s).\n",
      "\n",
      "                  Fold 1  Fold 2  Fold 3  Fold 4  Fold 5  Mean    Std     \n",
      "RMSE (testset)    0.9351  0.9339  0.9359  0.9344  0.9378  0.9354  0.0014  \n",
      "MAE (testset)     0.7392  0.7363  0.7365  0.7356  0.7390  0.7373  0.0015  \n",
      "Fit time          0.79    0.80    0.80    0.80    0.79    0.80    0.01    \n",
      "Test time         0.11    0.16    0.11    0.16    0.11    0.13    0.02    \n",
      "Best RMSE score: 0.9341966771187171\n",
      "Best parameters: {'n_factors': 150, 'n_epochs': 30, 'lr_all': 0.005, 'reg_all': 0.1}\n",
      "Evaluating RMSE, MAE of algorithm SVDpp on 5 split(s).\n",
      "\n",
      "                  Fold 1  Fold 2  Fold 3  Fold 4  Fold 5  Mean    Std     \n",
      "RMSE (testset)    0.9189  0.9313  0.9152  0.9158  0.9166  0.9196  0.0060  \n",
      "MAE (testset)     0.7218  0.7287  0.7178  0.7180  0.7176  0.7208  0.0043  \n",
      "Fit time          13.89   13.97   14.04   13.46   13.43   13.76   0.26    \n",
      "Test time         3.50    3.33    3.41    3.38    3.33    3.39    0.06    \n"
     ]
    }
   ],
   "source": [
    "import numpy as np\n",
    "import pandas as pd\n",
    "from surprise import Dataset, SVD, SVDpp, NMF\n",
    "from surprise.model_selection import cross_validate, GridSearchCV\n",
    "\n",
    "# Load the MovieLens 100k dataset\n",
    "data = Dataset.load_builtin('ml-100k')\n",
    "\n",
    "# Check the dataset format\n",
    "df = pd.DataFrame(data.raw_ratings, columns=['user', 'item', 'rating', 'timestamp'])\n",
    "print(df.head())\n",
    "\n",
    "# Initialize the SVD algorithm\n",
    "svd = SVD()\n",
    "\n",
    "# Evaluate SVD performance using cross-validation\n",
    "svd_cv_results = cross_validate(svd, data, measures=['RMSE', 'MAE'], cv=5, verbose=True)\n",
    "\n",
    "# Define parameter grid for SVD\n",
    "param_grid = {\n",
    "    'n_factors': [50, 100, 150],\n",
    "    'n_epochs': [20, 30],\n",
    "    'lr_all': [0.002, 0.005],\n",
    "    'reg_all': [0.02, 0.1]\n",
    "}\n",
    "\n",
    "# Perform GridSearchCV to find the best parameters\n",
    "gs = GridSearchCV(SVD, param_grid, measures=['rmse', 'mae'], cv=3)\n",
    "gs.fit(data)\n",
    "\n",
    "# Display the best RMSE score\n",
    "print(\"Best RMSE score:\", gs.best_score['rmse'])\n",
    "\n",
    "# Display the best parameters\n",
    "print(\"Best parameters:\", gs.best_params['rmse'])\n",
    "\n",
    "# Evaluate SVD++ algorithm\n",
    "svdpp = SVDpp()\n",
    "svdpp_results = cross_validate(svdpp, data, measures=['RMSE', 'MAE'], cv=5, verbose=True)\n",
    "\n",
    "# Evaluate NMF algorithm\n",
    "nmf = NMF()\n",
    "nmf_results = cross_validate(nmf, data, measures=['RMSE', 'MAE'], cv=5, verbose=True)\n",
    "\n",
    "# Example: Custom collaborative filtering function\n",
    "def collaborative_filtering(X, y, learning_rate=0.01, iterations=1000):\n",
    "    # Initialization of parameters\n",
    "    m, n = X.shape\n",
    "    theta = np.random.randn(n)\n",
    "    \n",
    "    for i in range(iterations):\n",
    "        # Hypothesis\n",
    "        prediction = np.dot(X, theta)\n",
    "        # Loss function\n",
    "        cost = (1 / (2 * m)) * np.sum((prediction - y) ** 2)\n",
    "        # Gradient descent\n",
    "        gradient = (1 / m) * np.dot(X.T, (prediction - y))\n",
    "        theta = theta - learning_rate * gradient\n",
    "        \n",
    "        if i % 100 == 0:\n",
    "            print(f\"Iteration {i}: Cost = {cost}\")\n",
    "    \n",
    "    return theta"
   ]
  }
 ],
 "metadata": {
  "kernelspec": {
   "display_name": "Python 3 (ipykernel)",
   "language": "python",
   "name": "python3"
  },
  "language_info": {
   "codemirror_mode": {
    "name": "ipython",
    "version": 3
   },
   "file_extension": ".py",
   "mimetype": "text/x-python",
   "name": "python",
   "nbconvert_exporter": "python",
   "pygments_lexer": "ipython3",
   "version": "3.11.5"
  }
 },
 "nbformat": 4,
 "nbformat_minor": 2
}
